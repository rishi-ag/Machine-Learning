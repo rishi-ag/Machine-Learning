{
 "cells": [
  {
   "cell_type": "markdown",
   "metadata": {},
   "source": [
    "# Regression analysis in distributed computing \n",
    "\n",
    "\n",
    "First thing to note is that with big amounts of data closed form solution through normal equations is not feasible anymore:\n",
    "\n",
    "$$\\mathbf{w} = (X^T X)^{-1} X^T y$$\n",
    "\n",
    "Computing $X^T X$ term takes $O(nk^2)$ operations, while inverse takes $O(k^3)$, where $n$ is number of observations and $k$ is number of variables. Storage is also considerable, $O(k^2)$ for these matrices and $O(nk)$ for matrix $X$.\n",
    "\n",
    "How can we deal with these issues? Depends on the type of the problem we have.  \n",
    "\n",
    "1. **Few variables, but many observations**. Storing $X$ can be solved by distributed form of storage, while computing $X^T X$ matrix can be done through a sum of outer products instead of computing inner products. Outer products work great as we can do them separately on each node and then sum them together in the main node. This is feasible if number of dimensions is not that big, in such case matrices of size $k^2$ should be able to fit on a single node.  \n",
    "2. **Many variables, and many observations**. Outer product operation is now also not feasible as matrices of size $k^2$ do not fit in any single node. In these situations we can potentially exploit sparsity to reduce the storage and computational requirements. We can also try to reduce the dimensionality through unsupervised learning techniques, such as SVD or PCA. However, the way out is really to discard the closed form approach and use numerical optimization - (stochastic) gradient descent needs less operations, $O(nk)$, and uses far less storage, $O(k)$.\n",
    "\n",
    "\n",
    "# Logistic regression\n",
    "\n",
    "Now we will examine how we can use a chain map-reduce operations to train the logistic regression with gradient descent. We will use the Bank marketing dataset from the [UCI repository](https://archive.ics.uci.edu/ml/datasets/Bank+Marketing) to illustrate these operations. It is not a big dataset but it will serve to illustrate the principles. We could have worked with bigger datasets, but it would have involved a lot of waiting for some of the steps.\n",
    "\n",
    "\n",
    "Outline: \n",
    "\n",
    "1. Create an RDD out of the text file \n",
    "2. Parse text lines into variables  \n",
    "3. Normalize variables\n",
    "4. Create training, validation and test set\n",
    "5. Baseline model \n",
    "6. Logistic regression through gradient descent  \n",
    "7. Logistic regression through the MLlib Spark library\n",
    "\n",
    "\n",
    "## 1. Creating an RDD and first look at the data\n",
    "\n",
    "I provided you with the dataset in a csv format, use that one instead of original dataset from the repository. I only removed the categorical variables. These need special processing operations that we will not cover. You should load the file directly from your bucket and convert it to the RDD using the appropriate function. You should have created a bucket already on S3 and uploaded the dataset there. \n",
    "\n",
    "Following the instructions in the comments, fill in the parts in the code below instead of (YOUR_CODE) parts."
   ]
  },
  {
   "cell_type": "code",
   "execution_count": 1,
   "metadata": {
    "collapsed": false
   },
   "outputs": [
    {
     "data": {
      "text/plain": [
       "pyspark.rdd.RDD"
      ]
     },
     "execution_count": 1,
     "metadata": {},
     "output_type": "execute_result"
    }
   ],
   "source": [
    "# number of workers you have started\n",
    "numPartitions = 3\n",
    "\n",
    "# we are loading the text file directly from our bucket and converting it to RDD\n",
    "# use appropriate function and set the number of partitions\n",
    "rdd = sc.textFile('s3n://pysparkdemo/data/bank.csv')\n",
    "type(rdd)"
   ]
  },
  {
   "cell_type": "code",
   "execution_count": 16,
   "metadata": {
    "collapsed": false
   },
   "outputs": [
    {
     "name": "stdout",
     "output_type": "stream",
     "text": [
      "41188\n",
      "[u'1,98,476,0.73,5017.5,2,-3.4,92.431,-26.9', u'1,98,272,0.73,5017.5,0,-3.4,92.431,-26.9', u'1,92,405,0.697,5008.7,1,-1.8,93.876,-40']\n"
     ]
    }
   ],
   "source": [
    "# use appropriate function to count the number of observations in the dataset\n",
    "noObs = rdd.count()\n",
    "print noObs\n",
    "\n",
    "# use appropriate function to get only 3 observations from the whole dataset\n",
    "noObservations = 3\n",
    "fewObs = rdd.top(noObservations)\n",
    "print fewObs"
   ]
  },
  {
   "cell_type": "code",
   "execution_count": 17,
   "metadata": {
    "collapsed": false
   },
   "outputs": [],
   "source": [
    "# checking if you got a correct result, you should have 11 million observations\n",
    "# you will see an output here only if you made an error\n",
    "assert noObs == 41188, \"Something is wrong here!\"\n",
    "assert len(fewObs) == noObservations, \"You did not extract correct number of observations\""
   ]
  },
  {
   "cell_type": "markdown",
   "metadata": {},
   "source": [
    "\n",
    "\n",
    "## 2. Parsing the text lines\n",
    "\n",
    "From the print of `fewObs` object you should realize that each observation in the current RDD is one long line of text, and not nice a data frame. \n",
    "\n",
    "One line should look something like this: \n",
    "\n",
    "`u'1,8.692932128906250000e-01,-6.350818276405334473e-01,2.256902605295181274e-01,...'`. \n",
    "\n",
    "First point is a label, either a 0 or 1, and remaining numbers are features.\n",
    "\n",
    "Your first task is to parse the text lines and create variables out of them. We will convert them to a special class `LabeledPoint` from MLlib library (see official docs [here](http://spark.apache.org/docs/latest/mllib-data-types.html)). This is the format used for storing supervised learning data in MLlib, both classification and regression. \n",
    "\n",
    "You will fill out the details of the `parseTextLine` function that processes one line of text and returns a LabeledPoint object. You will check it out on couple of observations that you extracted above, on `fewObs` object."
   ]
  },
  {
   "cell_type": "code",
   "execution_count": null,
   "metadata": {
    "collapsed": false
   },
   "outputs": [],
   "source": [
    "# numpy version should be at least 1.4 for MLlib, there is a ridiculous bug that raises an exception\n",
    "# because recent numpy is named 1.10 which is mathematically not higher than 1.4\n",
    "# the bootstrap script installs previous version, 1.9.2 for this reason\n",
    "import numpy as np\n",
    "print np.__version__"
   ]
  },
  {
   "cell_type": "code",
   "execution_count": 29,
   "metadata": {
    "collapsed": false
   },
   "outputs": [
    {
     "name": "stdout",
     "output_type": "stream",
     "text": [
      "<type 'list'>\n",
      "[98.0,272.0,0.73,5017.5,0.0,-3.4,92.431,-26.9]\n",
      "1.0\n"
     ]
    }
   ],
   "source": [
    "from pyspark.mllib.regression import LabeledPoint\n",
    "import numpy as np\n",
    "\n",
    "# you should fill out details of function parseTextLine\n",
    "# input: line, a single observation consisting of a string\n",
    "# output: LabeledPoint instance, text converted to distinct variables, label and features\n",
    "# use Python's split() method to separate elements of the text lines\n",
    "def parseTextLine(line):\n",
    "    datapoint = line.split(\",\")\n",
    "    return(LabeledPoint(datapoint[0], datapoint[1:]))\n",
    "\n",
    "# check if it works on fewObs object by applying parseTextLine(), the result should be a list\n",
    "parsedLines = [parseTextLine(line) for line in fewObs]\n",
    "print type(parsedLines)\n",
    "#print parsedLines\n",
    "\n",
    "# now, print out the features and label separately for the first observation, \n",
    "# using the LabeledPoint.features and LabeledPoint.label attributes\n",
    "print parsedLines[1].features\n",
    "print parsedLines[1].label\n"
   ]
  },
  {
   "cell_type": "code",
   "execution_count": 30,
   "metadata": {
    "collapsed": false
   },
   "outputs": [],
   "source": [
    "assert len(parsedLines[1].features) == 8, 'You should have 8 features!'"
   ]
  },
  {
   "cell_type": "markdown",
   "metadata": {
    "collapsed": true
   },
   "source": [
    "If everything seems to be in order, proceed by parsing all the data."
   ]
  },
  {
   "cell_type": "code",
   "execution_count": 33,
   "metadata": {
    "collapsed": false
   },
   "outputs": [
    {
     "data": {
      "text/plain": [
       "[LabeledPoint(0.0, [45.0,99.0,4.965,5228.1,0.0,1.4,93.444,-36.1]),\n",
       " LabeledPoint(0.0, [29.0,257.0,4.965,5228.1,0.0,1.4,93.444,-36.1]),\n",
       " LabeledPoint(1.0, [34.0,1148.0,4.965,5228.1,0.0,1.4,93.444,-36.1])]"
      ]
     },
     "execution_count": 33,
     "metadata": {},
     "output_type": "execute_result"
    }
   ],
   "source": [
    "# use your parseTextLine function on every observation\n",
    "parsedRDD = rdd.map(lambda(x): parseTextLine(x))\n",
    "#verify is the function works properly\n",
    "parsedRDD.top(3)"
   ]
  },
  {
   "cell_type": "markdown",
   "metadata": {},
   "source": [
    "\n",
    "## 3. Normalizing the features \n",
    "\n",
    "Standardizing or normalizing features is very relevant for algorithms using distance measures. In our situation it will also bring significant improvements since we will use (stochastic) gradient descent to train the logistic regression. We will use a simple transformation to 0-1 interval\n",
    "\n",
    "$$ x_{norm} = (x-min(x)) / (max(x)-min(x)) $$\n"
   ]
  },
  {
   "cell_type": "code",
   "execution_count": 35,
   "metadata": {
    "collapsed": false
   },
   "outputs": [
    {
     "name": "stdout",
     "output_type": "stream",
     "text": [
      "8\n"
     ]
    }
   ],
   "source": [
    "# take a single row and compute the number of features in it\n",
    "noFeatures = len(parsedRDD.first().features)\n",
    "print noFeatures  # you should get 8"
   ]
  },
  {
   "cell_type": "code",
   "execution_count": 36,
   "metadata": {
    "collapsed": false
   },
   "outputs": [
    {
     "name": "stdout",
     "output_type": "stream",
     "text": [
      "0\n",
      "1\n",
      "2\n",
      "3\n",
      "4\n",
      "5\n",
      "6\n",
      "7\n",
      "[17.0, 0.0, 0.63400000000000001, 4963.6000000000004, 0.0, -3.3999999999999999, 92.200999999999993, -50.799999999999997]\n",
      "[98.0, 4918.0, 5.0449999999999999, 5228.1000000000004, 7.0, 1.3999999999999999, 94.766999999999996, -26.899999999999999]\n"
     ]
    }
   ],
   "source": [
    "# get min and max for each feature \n",
    "featuresMin = []; featuresMax = []\n",
    "for i in range(noFeatures):\n",
    "    print i\n",
    "    feature = parsedRDD.map(lambda lp: lp.features[i])\n",
    "    featuresMin.append(feature.min())\n",
    "    featuresMax.append(feature.max())\n",
    "\n",
    "# print out minimum and maximum value of each feature\n",
    "print featuresMin\n",
    "print featuresMax\n"
   ]
  },
  {
   "cell_type": "code",
   "execution_count": 40,
   "metadata": {
    "collapsed": false
   },
   "outputs": [
    {
     "name": "stdout",
     "output_type": "stream",
     "text": [
      "0.0\n",
      "1.0\n"
     ]
    }
   ],
   "source": [
    "# define a function for normalizing each feature according to min and max information\n",
    "# input: lp, LabeledPoint, a single observation\n",
    "#        featuresMin, a list of minimum values for each fature\n",
    "#        featureMax, a list of maximum values for each feature\n",
    "# output: a LabeledPoint with original label, but new, transformed features\n",
    "def normalize(lp, featuresMin, featuresMax):\n",
    "    normFeat = [(feat - featMin)/ (featMax -featMin) for feat, featMin, featMax \\\n",
    "            in list(zip(lp.features, featuresMin, featuresMax))]\n",
    "    return(LabeledPoint(lp.label, normFeat))\n",
    "\n",
    "# run normalize() on all observations\n",
    "normedRDD = parsedRDD.map(lambda dataPoint: normalize(dataPoint, featuresMin, featuresMax))\n",
    "\n",
    "# if everything went all right, you should see 0 and 1 as a result here\n",
    "print normedRDD.map(lambda lp: lp.features[0]).min()\n",
    "print normedRDD.map(lambda lp: lp.features[0]).max()"
   ]
  },
  {
   "cell_type": "markdown",
   "metadata": {},
   "source": [
    "\n",
    "\n",
    "## 4. Creating training, validation and test data\n",
    "\n",
    "Now that we have created proper dataset we will create separate training, validation and test data. You should use the [randomSplit method](https://spark.apache.org/docs/latest/api/python/pyspark.html#pyspark.RDD.randomSplit) to randomly create three separate datasets, use the weights and seed supplied below. \n"
   ]
  },
  {
   "cell_type": "code",
   "execution_count": 56,
   "metadata": {
    "collapsed": true
   },
   "outputs": [],
   "source": [
    "# do not change the weights and the seed\n",
    "#weights = [.7, .15, .15]\n",
    "weights = [28769, 6195, 6224]\n",
    "seed = 1111\n",
    "\n",
    "# use randomSplit with weights and seed defined above on the trainRDD\n",
    "trainRDD, valRDD, testRDD = normedRDD.randomSplit(weights, seed)"
   ]
  },
  {
   "cell_type": "markdown",
   "metadata": {},
   "source": [
    "Now you should [cache](https://spark.apache.org/docs/latest/api/python/pyspark.html#pyspark.RDD.cache) all three of new RDD's, as you will be using them a lot in the remainder of the problem set."
   ]
  },
  {
   "cell_type": "code",
   "execution_count": 57,
   "metadata": {
    "collapsed": false
   },
   "outputs": [
    {
     "name": "stdout",
     "output_type": "stream",
     "text": [
      "Training: 28780.000, Validation: 6198.000, Test: 6210.000, All: 41188.000\n"
     ]
    }
   ],
   "source": [
    "# cache the data\n",
    "trainRDD.cache\n",
    "valRDD.cache\n",
    "testRDD.cache\n",
    "\n",
    "# get the number of observation in each subset\n",
    "noTrain = trainRDD.count()\n",
    "noVal = valRDD.count()\n",
    "noTest = testRDD.count()\n",
    "\n",
    "print \"Training: {0:.3f}, Validation: {1:.3f}, Test: {2:.3f}, All: {3:.3f}\".format(noTrain, noVal, noTest, noTrain + noVal + noTest)\n"
   ]
  },
  {
   "cell_type": "code",
   "execution_count": 58,
   "metadata": {
    "collapsed": false
   },
   "outputs": [
    {
     "ename": "AssertionError",
     "evalue": "Wrong number of observations. Did you change the weights?",
     "output_type": "error",
     "traceback": [
      "\u001b[1;31m---------------------------------------------------------------------------\u001b[0m",
      "\u001b[1;31mAssertionError\u001b[0m                            Traceback (most recent call last)",
      "\u001b[1;32m<ipython-input-58-c126dd90f4b7>\u001b[0m in \u001b[0;36m<module>\u001b[1;34m()\u001b[0m\n\u001b[1;32m----> 1\u001b[1;33m \u001b[1;32massert\u001b[0m \u001b[0mnoTrain\u001b[0m \u001b[1;33m==\u001b[0m \u001b[1;36m28769\u001b[0m\u001b[1;33m,\u001b[0m \u001b[1;34m\"Wrong number of observations. Did you change the weights?\"\u001b[0m\u001b[1;33m\u001b[0m\u001b[0m\n\u001b[0m\u001b[0;32m      2\u001b[0m \u001b[1;32massert\u001b[0m \u001b[0mnoVal\u001b[0m \u001b[1;33m==\u001b[0m \u001b[1;36m6195\u001b[0m\u001b[1;33m,\u001b[0m \u001b[1;34m\"Wrong number of observations. Did you change the weights?\"\u001b[0m\u001b[1;33m\u001b[0m\u001b[0m\n\u001b[0;32m      3\u001b[0m \u001b[1;32massert\u001b[0m \u001b[0mnoTest\u001b[0m \u001b[1;33m==\u001b[0m \u001b[1;36m6224\u001b[0m\u001b[1;33m,\u001b[0m \u001b[1;34m\"Wrong number of observations. Did you change the weights?\"\u001b[0m\u001b[1;33m\u001b[0m\u001b[0m\n",
      "\u001b[1;31mAssertionError\u001b[0m: Wrong number of observations. Did you change the weights?"
     ]
    }
   ],
   "source": [
    "assert noTrain == 28769, \"Wrong number of observations. Did you change the weights?\"\n",
    "assert noVal == 6195, \"Wrong number of observations. Did you change the weights?\"\n",
    "assert noTest == 6224, \"Wrong number of observations. Did you change the weights?\""
   ]
  },
  {
   "cell_type": "markdown",
   "metadata": {},
   "source": [
    "\n",
    "\n",
    "## 4. Baseline model\n",
    "\n",
    "For every analysis you should have a good benchmark or baseline as evaluating performance of models is difficult without a reference frame. How do you know whether an accuracy of 75% is a good performance or a bad performance?  \n",
    "\n",
    "A simplest reference frame is how well could you do with no learning what so ever, that is, without extracting any information from features. In classification problem that we have here, this is a simple proportion of labels in the dataset. In prediction terms, based on this model we will always make the same prediction independent of the features - our average label is the constant prediction value.  If our model is doing worse than this, we are doing something very wrong. "
   ]
  },
  {
   "cell_type": "code",
   "execution_count": 59,
   "metadata": {
    "collapsed": false
   },
   "outputs": [
    {
     "name": "stdout",
     "output_type": "stream",
     "text": [
      "0.112925642808\n"
     ]
    }
   ],
   "source": [
    "# compute mean over label part of LabeledPoints\n",
    "meanLabel = trainRDD.map(lambda(x): x.label).mean()\n",
    "#meanLabel.mean()\n",
    "print meanLabel"
   ]
  },
  {
   "cell_type": "code",
   "execution_count": 55,
   "metadata": {
    "collapsed": false
   },
   "outputs": [
    {
     "ename": "AssertionError",
     "evalue": "Something is wrong, check your calculation of the mean label",
     "output_type": "error",
     "traceback": [
      "\u001b[1;31m---------------------------------------------------------------------------\u001b[0m",
      "\u001b[1;31mAssertionError\u001b[0m                            Traceback (most recent call last)",
      "\u001b[1;32m<ipython-input-55-66d97c9fa950>\u001b[0m in \u001b[0;36m<module>\u001b[1;34m()\u001b[0m\n\u001b[1;32m----> 1\u001b[1;33m \u001b[1;32massert\u001b[0m \u001b[0mnp\u001b[0m\u001b[1;33m.\u001b[0m\u001b[0mallclose\u001b[0m\u001b[1;33m(\u001b[0m\u001b[0mmeanLabel\u001b[0m\u001b[1;33m,\u001b[0m \u001b[1;36m0.112586464597\u001b[0m\u001b[1;33m)\u001b[0m\u001b[1;33m,\u001b[0m \u001b[1;34m\"Something is wrong, check your calculation of the mean label\"\u001b[0m\u001b[1;33m\u001b[0m\u001b[0m\n\u001b[0m",
      "\u001b[1;31mAssertionError\u001b[0m: Something is wrong, check your calculation of the mean label"
     ]
    }
   ],
   "source": [
    "assert np.allclose(meanLabel, 0.112586464597), \"Something is wrong, check your calculation of the mean label\""
   ]
  },
  {
   "cell_type": "markdown",
   "metadata": {},
   "source": [
    "You should have obtained lower proportion of successful calls than 0.5, hence the prediction of the baseline model for each observation is 0. \n",
    "\n",
    "How does the baseline model performs? We will use a misclassification error as a measure of performance. You will now write a function that evaluates the accuracy of each prediction."
   ]
  },
  {
   "cell_type": "code",
   "execution_count": 83,
   "metadata": {
    "collapsed": false
   },
   "outputs": [
    {
     "name": "stdout",
     "output_type": "stream",
     "text": [
      "0.333333333333\n"
     ]
    }
   ],
   "source": [
    "# classify function should take two arguments\n",
    "# inputs: probability, float, that the observation is 1\n",
    "#         threshold, float, for classifying predicted probability as 0 or 1\n",
    "# output: float, predicted label, either 0 or 1\n",
    "def classify(probability, threshold):\n",
    "    return(int(probability >= threshold))\n",
    "\n",
    "\n",
    "# this function should compute the misclassification error for a single observation and its prediction,\n",
    "# you should use classify function to convert probability into predicted labels\n",
    "# input: probability, float between 0 and 1\n",
    "#        predictedLabel, float, either 0 or 1, \n",
    "#        threshold, float, for classifying predicted probability as 0 or 1\n",
    "# output: float, 0 if correct and 1 if incorrect\n",
    "def misErrorSingle(probability, label, threshold):\n",
    "    return(int(label != classify(probability, threshold)))\n",
    "\n",
    "# this function should compute mean misclassification error on RDD labPred (see example below)\n",
    "# it should apply the function misErrorSingle on the whole RDD\n",
    "# input: labPredRDD, a label prediction tuples\n",
    "#        threshold, float, for classifying predicted probability as 0 or 1\n",
    "# output: mean misclassification error\n",
    "def misError(labPredRDD, threshold):\n",
    "    return(labPredRDD.map(lambda(tup): misErrorSingle(tup[1],tup[0], threshold)).mean())\n",
    "\n",
    "# check it on an easy example, 1 observation misclassified, 2 correct\n",
    "labPredRDD_ex = sc.parallelize([(0., 1.), (0., 0.), (1., 1.)])\n",
    "threshold = 0.5\n",
    "misError_ex = misError(labPredRDD_ex, threshold)\n",
    "print misError_ex"
   ]
  },
  {
   "cell_type": "code",
   "execution_count": 84,
   "metadata": {
    "collapsed": true
   },
   "outputs": [],
   "source": [
    "assert np.allclose(misError_ex, 0.333333333333), 'incorrect value for misError_ex'"
   ]
  },
  {
   "cell_type": "markdown",
   "metadata": {},
   "source": [
    "You should now make predictions based on the baseline model for all three datasets. "
   ]
  },
  {
   "cell_type": "code",
   "execution_count": 85,
   "metadata": {
    "collapsed": false,
    "scrolled": true
   },
   "outputs": [
    {
     "name": "stdout",
     "output_type": "stream",
     "text": [
      "Baseline model - Train misclassification error = 1.000\n",
      "Baseline model - Validation misclassification error = 1.000\n",
      "Baseline model - Test misclassification error = 1.000\n"
     ]
    }
   ],
   "source": [
    "# set the threshold for evaluating the probabiliteis\n",
    "threshold = 0.5\n",
    "\n",
    "# for each dataset first create RDD's of tuples with meanLabel and label in each tuple   \n",
    "# and then feed these RDD's into misError function\n",
    "baseTrain = trainRDD.map(lambda(x): (meanLabel, x.label))\n",
    "baseTrain_misError = misError(baseTrain, threshold)\n",
    "\n",
    "baseVal = valRDD.map(lambda(x): (meanLabel, x.label))\n",
    "baseVal_misError = misError(baseVal, threshold)\n",
    "\n",
    "baseTest = testRDD.map(lambda(x): (meanLabel, x.label))\n",
    "baseTest_misError = misError(baseTest, threshold)\n",
    "\n",
    "print 'Baseline model - Train misclassification error = {0:.3f}'.format(baseTrain_misError)\n",
    "print 'Baseline model - Validation misclassification error = {0:.3f}'.format(baseVal_misError)\n",
    "print 'Baseline model - Test misclassification error = {0:.3f}'.format(baseTest_misError)"
   ]
  },
  {
   "cell_type": "markdown",
   "metadata": {},
   "source": [
    "\n",
    "## 5. Training logistic regression with Gradient descent\n",
    "\n",
    "Now let's see how much better we can do with a simple logistic regression. We will train it with the gradient descent method since analytical solutions require too much storage and computing time. \n",
    "\n",
    "Recall from the first term the equation for the gradient descent update for logistic regression: \n",
    "\n",
    "$$ \\mathbf{w}_{i+1} = \\mathbf{w}_i - \\alpha \\sum_n (\\mathbf{w}_i^\\top\\mathbf{x}_n  - y_n) \\mathbf{x}_n \\,.$$ \n",
    "\n",
    "where $i$ is the iteration number, and $n$ denotes observation. We will use constant learning rate, but there are various schemes for decreasing learning rates, such as $\\alpha=\\frac{constant}{n\\sqrt{i}}$.\n",
    "\n",
    "Although this is computationally and storage wise much cheaper than analytical solution, there are disadvantages as well. Gradient part is computed in each node and sent to the driver (map step), after sum of gradients is computed in the driver (reduce step), updated weights $\\mathbf{w}_{i+1}$ have to be redistributed over the network to all the nodes for the next iteration. Hence, there will be a lot of communication over network.  "
   ]
  },
  {
   "cell_type": "code",
   "execution_count": null,
   "metadata": {
    "collapsed": true
   },
   "outputs": [],
   "source": [
    "from pyspark.mllib.linalg import DenseVector"
   ]
  },
  {
   "cell_type": "markdown",
   "metadata": {},
   "source": [
    "\n",
    "You will first define a log loss function. Misclassification error that we defined above is great for getting a sense of absolute performance of the algorithm, however it is too rough to use it for monitoring the gradient descent process. You will first define function `logLossSingle` that computes the loss for a single observation, and then function `logLoss` that will implement it in parallel on whole RDD.\n",
    "\n",
    "Given independent observations likelihood function for binary classification problems can be defined as\n",
    "\n",
    "$$ L(\\theta) = \\prod_{i=1}^N p(y_i|x_i\\theta) = \\prod_{i=1}^N (p_i)^{y_i} (1-p_i))^{1-y_i}$$\n",
    "\n",
    "Since we would be computing very small numbers we would quickly run into problems with numerical precisions. Hence we actually compute a log of this expression, which is a monotonic transformation and no information is lost\n",
    "\n",
    "$$ logL(\\theta) = - \\sum_{i=1}^N y_i log(p_i) + (1-y_i)(1-p_i) $$\n",
    "\n",
    "To convert it into a minimization problem we multiply it additionally with -1."
   ]
  },
  {
   "cell_type": "code",
   "execution_count": 100,
   "metadata": {
    "collapsed": false
   },
   "outputs": [
    {
     "name": "stdout",
     "output_type": "stream",
     "text": [
      "0.69314718056\n",
      "0.0100503358535\n",
      "4.60517018599\n",
      "25.3284360229\n",
      "1.00000008275e-11\n"
     ]
    }
   ],
   "source": [
    "from math import log\n",
    "\n",
    "# input: prob, float, value between 0 and 1, predicted probability that label=1\n",
    "#        lab, float, label of the observation, either 0 or 1\n",
    "# output: float, negative log likelihood of a single observation\n",
    "def logLossSingle(prob, lab):\n",
    "    \n",
    "    # if probability is too small/large add/subtract this epsilon value\n",
    "    # this is because log(0) is not defined\n",
    "    epsilon = 10e-12\n",
    "    if(prob <= epsilon):\n",
    "        prob += epsilon\n",
    "    elif (prob >= (1 - epsilon)):\n",
    "        prob -= epsilon\n",
    "    \n",
    "    # now return the log loss\n",
    "    return(-lab*log(prob) - (1 - lab)* log(1 - prob))\n",
    "\n",
    "# if you get an error on any of these check your computations, especially epsilon\n",
    "print logLossSingle(.5, 1)   # 0.69314718056\n",
    "print logLossSingle(.99, 1)  # 0.0100503358535\n",
    "print logLossSingle(.01, 1)  # 4.60517018599\n",
    "print logLossSingle(0, 1)    # 25.3284360229\n",
    "print logLossSingle(1, 1)    # 1.00000008275e-11\n"
   ]
  },
  {
   "cell_type": "code",
   "execution_count": 102,
   "metadata": {
    "collapsed": false
   },
   "outputs": [
    {
     "name": "stdout",
     "output_type": "stream",
     "text": [
      "3.30116251751\n"
     ]
    }
   ],
   "source": [
    "# logLoss function should compute the mean log loss on the whole RDD probLab \n",
    "# input: probLab, RDD of probability label tuples\n",
    "# output: float, mean log loss\n",
    "def logLoss(probLab):\n",
    "    # apply the function logLossSingle on the whole RDD and compute the mean\n",
    "    return(probLab.map(lambda(x): logLossSingle(x[0], x[1])).mean())\n",
    "\n",
    "# check it on an easy example\n",
    "probLabRDD_ex = sc.parallelize([(0.5, 1.), (0.99, 0.), (0.01, 1.)])\n",
    "logLoss_ex = logLoss(probLabRDD_ex)\n",
    "print logLoss_ex"
   ]
  },
  {
   "cell_type": "code",
   "execution_count": 103,
   "metadata": {
    "collapsed": false
   },
   "outputs": [],
   "source": [
    "assert np.allclose(logLoss_ex, 3.30116251751), 'Check your logLoss function'"
   ]
  },
  {
   "cell_type": "markdown",
   "metadata": {},
   "source": [
    "\n",
    "Now define a sigmoid function that will be transforming linear combinations of feature values and weights to probabilities\n",
    "\n",
    "$$ f(z) = \\frac{1}{1+exp(-z)} $$\n"
   ]
  },
  {
   "cell_type": "code",
   "execution_count": 106,
   "metadata": {
    "collapsed": false
   },
   "outputs": [
    {
     "name": "stdout",
     "output_type": "stream",
     "text": [
      "0.5\n",
      "1.0\n",
      "3.72007597602e-44\n"
     ]
    }
   ],
   "source": [
    "import math\n",
    "# define sigmoid function\n",
    "# input: z, a float, result of a dot product between weights and feature values\n",
    "# output: a float, dot product transformed to 0-1 range\n",
    "def sigmoid(z):\n",
    "    return(1.0/ (1 + math.exp(-z)))\n",
    "\n",
    "print sigmoid(0)  # should produce 0.5\n",
    "print sigmoid(100)  # should produce number close to 1\n",
    "print sigmoid(-100)  # should produce number close to 0"
   ]
  },
  {
   "cell_type": "markdown",
   "metadata": {},
   "source": [
    "\n",
    "We will break down the gradient descent algorithm into components. We will write a function for the part that is computed on separate nodes in parallel - gradient. Then these gradients are summed in the driver node and weights are updated based on the whole sum.\n",
    "\n",
    "Define a function that computes the gradient for a single observation \n",
    "\n",
    "$$ (y-f(\\mathbf{w}^\\top \\mathbf{x})) \\mathbf{x}$$. \n",
    "\n",
    "Pay particular care that your gradient computation is correct. Error in gradients is the most frequent reason why something goes wrong with gradient descent.\n",
    "\n",
    "You will use the `DenseVector` [dot](http://spark.apache.org/docs/latest/api/python/pyspark.mllib.html#pyspark.mllib.linalg.DenseVector.dot) method to compute a cross product between feature vector and weight vector. I provided you with an example on which you can test it.\n"
   ]
  },
  {
   "cell_type": "code",
   "execution_count": 114,
   "metadata": {
    "collapsed": false
   },
   "outputs": [
    {
     "name": "stdout",
     "output_type": "stream",
     "text": [
      "[3.05902226994e-07,3.05902226994e-07,3.05902226994e-07,3.05902226994e-07,3.05902226994e-07]\n",
      "<class 'pyspark.mllib.linalg.DenseVector'>\n"
     ]
    }
   ],
   "source": [
    "from pyspark.mllib.linalg import DenseVector\n",
    "# compute the gradient for a single observation\n",
    "# inputs: weights, an array of regression coefficients; \n",
    "#         lp, a LabeledPoint of a single observation\n",
    "# output: DenseVector, an array of values, same length as weights\n",
    "def gradient(weights, lp):\n",
    "    x = DenseVector(lp.features)\n",
    "    z = weights.dot(x)\n",
    "    return((lp.label - sigmoid(z))* x)\n",
    "\n",
    "weights_ex = DenseVector([1, 2, 3, 4, 5])\n",
    "lp_ex = LabeledPoint(1.0, [1, 1, 1, 1, 1])\n",
    "gradient_ex = gradient(weights_ex, lp_ex)\n",
    "print gradient_ex\n",
    "print type(gradient_ex)\n",
    "# you should see a following vector: \n",
    "# [3.05902226994e-07,3.05902226994e-07,3.05902226994e-07,3.05902226994e-07,3.05902226994e-07]\n",
    "# sigmoid should produce smth close to 1 so when it is subtracted from 1 we get smth close to 0"
   ]
  },
  {
   "cell_type": "markdown",
   "metadata": {},
   "source": [
    "\n",
    "Now you should define a function that creates (probability, label) tuples that we will feed into logLoss() function to keep track of the loss function while we are training the algorithm via gradient descent. Keeping track of what is going on with the loss is one of the diagnostic tools you should always make use of to verify that gradient descent is converging.\n",
    "\n",
    "Use again the `dot` method to compute the prediction based on vector of weights and feature part of the observation.\n"
   ]
  },
  {
   "cell_type": "code",
   "execution_count": 127,
   "metadata": {
    "collapsed": false
   },
   "outputs": [
    {
     "name": "stdout",
     "output_type": "stream",
     "text": [
      "[(0.9525741268224334, 1.0), (0.11920292202211755, 0.0)]\n",
      "0.0877576813084\n"
     ]
    }
   ],
   "source": [
    "# function should operate on a single observation\n",
    "# input: weights, a numpy array, and lp, a LabeledPoint\n",
    "# output: a tuple consisting of a predicted probability and a label\n",
    "def probLabTuple(weights, lp):\n",
    "    x = DenseVector(lp.features)\n",
    "    z = weights.dot(x)\n",
    "    return((sigmoid(z), lp.label))\n",
    "    \n",
    "\n",
    "# lets check it on an easy example\n",
    "weights_ex = np.array([1, 2, 3, 4, 5])\n",
    "data_ex = sc.parallelize([LabeledPoint(1, np.array([-1, -1, -1, 1, 1])),\n",
    "                          LabeledPoint(0, np.array([-2, 2, -2, -2, 2]))])\n",
    "probLab_ex = data_ex.map(lambda lp: probLabTuple(weights_ex, lp))\n",
    "print probLab_ex.collect()\n",
    "# you should see a list of tuples: [(0.9525741268224334, 1.0), (0.11920292202211755, 0.0)]\n",
    "\n",
    "# what log loss this produces? you should see the following result: 0.0877576813084\n",
    "print logLoss(probLab_ex)"
   ]
  },
  {
   "cell_type": "markdown",
   "metadata": {},
   "source": [
    "\n",
    "Now you are ready to define a gradient descent function. There is also a small sample on which you can test it out. \n",
    "\n",
    "Use the subset of the data also to determine the best learning rate `alpha`. Try out several values, too big learning rate will lead to increase of loss, for big ones it will appear flat or very erratic, while for appropriate rate the loss will generally decrease and flatten out after enough iterations. Too small rates will work fine but will require more iterations. \n",
    "\n",
    "How many iterations should you leave it run? That's difficult to say, it depends on application, you could monitor cost and after it flattened out you can stop. Better indicator is to actually compute the validation error.\n"
   ]
  },
  {
   "cell_type": "code",
   "execution_count": 134,
   "metadata": {
    "collapsed": false
   },
   "outputs": [
    {
     "name": "stdout",
     "output_type": "stream",
     "text": [
      "[LabeledPoint(0.0, [0.481481481481,0.0530703538024,0.957379279075,0.859735349716,0.0,0.9375,0.698752922837,0.602510460251]), LabeledPoint(0.0, [0.493827160494,0.0302968686458,0.957379279075,0.859735349716,0.0,0.9375,0.698752922837,0.602510460251])]\n",
      "weights\n",
      "[-0.42392234  0.2740929  -1.02083765 -0.91672155  0.         -0.9996407\n",
      " -0.74506866 -0.64244691]\n",
      "Log loss\n",
      "[ 0.69314718  0.21169922  0.16098263  0.14112867  0.13087951  0.12482433\n",
      "  0.12094321  0.11831516  0.11646364  0.11511944  0.11412025  0.11336319\n",
      "  0.11278043  0.11232574  0.11196683  0.11168058  0.11145013  0.111263\n",
      "  0.11110982  0.11098345  0.11087841  0.11079043  0.11071619  0.11065305\n",
      "  0.11059894  0.11055218  0.11051145  0.11047565  0.11044392  0.11041555\n",
      "  0.11038995  0.11036665  0.11034526  0.11032547  0.11030699  0.11028962\n",
      "  0.11027318  0.1102575   0.11024248  0.11022799  0.11021397  0.11020032\n",
      "  0.11018699  0.11017394  0.11016111  0.11014847  0.110136    0.11012366\n",
      "  0.11011144  0.11009931  0.11008727  0.1100753   0.11006338  0.11005152\n",
      "  0.1100397   0.11002791  0.11001616  0.11000443  0.10999273  0.10998104\n",
      "  0.10996937  0.10995771  0.10994607  0.10993443  0.10992281  0.10991119\n",
      "  0.10989958  0.10988798  0.10987638  0.10986479  0.1098532   0.10984161\n",
      "  0.10983003  0.10981845  0.10980688  0.1097953   0.10978373  0.10977216\n",
      "  0.1097606   0.10974903  0.10973747  0.10972591  0.10971435  0.10970279\n",
      "  0.10969124  0.10967969  0.10966813  0.10965658  0.10964503  0.10963349\n",
      "  0.10962194  0.1096104   0.10959885  0.10958731  0.10957577  0.10956424\n",
      "  0.1095527   0.10954116  0.10952963  0.1095181 ]\n"
     ]
    }
   ],
   "source": [
    "# function that performs the gradient descent on a given RDD \n",
    "# inputs: dataRDD, rdd with LabeledPoint observations, \n",
    "#         noIter, integer defining number of iterations\n",
    "#         alpha, float, learning rate\n",
    "#         diagnostics, bool, should the error be recorded?\n",
    "# output: a tuple consisting of two numpy arrays, one will be final weights, \n",
    "#         the other loss in each iteration\n",
    "def gradientDescent(dataRDD, noIter, alpha, diagnostics):\n",
    "    \n",
    "    # some help variables and arrays for storing the results\n",
    "    noObs = dataRDD.count()\n",
    "    noFeatures = len(dataRDD.take(1)[0].features)\n",
    "    error = np.zeros(noIter)  # we will keep track of misclassification error with each iteration\n",
    "    weights = np.zeros(noFeatures)  # initialize weights to zero's\n",
    "    \n",
    "    # we iterate until convergence, or in our case, defined by fixed number of iterations\n",
    "    for i in range(noIter):\n",
    "\n",
    "        # we will also keep track of the loss, compute the loss here with the current weights\n",
    "        # use probLabTuple() function defined above and apply it on whole dataRDD\n",
    "        if diagnostics:\n",
    "            probLab = dataRDD.map(lambda(x): probLabTuple(weights, x))\n",
    "            error[i] = logLoss(probLab)\n",
    "        \n",
    "        # compute mean gradient (computed in the driver node)\n",
    "        # use the gradient() function you defined earlier\n",
    "        # meanGradient should be a DenseVector and have same number of features as weights vector\n",
    "        meanGradient = dataRDD.map(lambda(x): gradient(weights, x)).mean()\n",
    "        weights += meanGradient  # we update the weights based on the totalGradient\n",
    "    \n",
    "    if diagnostics:\n",
    "        return weights, error\n",
    "    else:\n",
    "        return weights\n",
    "\n",
    "\n",
    "# ----\n",
    "# Check it on a smaller subset of data\n",
    "# ----\n",
    "\n",
    "# subset of the data\n",
    "data_ex = (sc\n",
    "            .parallelize(trainRDD.take(300))\n",
    "            .map(lambda lp: LabeledPoint(lp.label, lp.features)))\n",
    "print data_ex.take(2)\n",
    "\n",
    "# set the parameters, you can use a smaller subset to verify the learning rate\n",
    "# try other alpha values 76, 36, 26, 6, 0.6\n",
    "alpha = 6\n",
    "noIter = 100\n",
    "diagnostics = True\n",
    "\n",
    "# run the GD\n",
    "weights_ex, error_ex = gradientDescent(data_ex, noIter, alpha, diagnostics)\n",
    "print \"weights\\n\", weights_ex\n",
    "print \"Log loss\\n\", error_ex"
   ]
  },
  {
   "cell_type": "markdown",
   "metadata": {},
   "source": [
    "\n",
    "Now lets check how the loss is behaving in each iteration. If loss is not decreasing over time, you should try other learning rates, and if you don't get any improvements, something might be wrong with your gradient function.\n",
    "\n",
    "Note that we computed the loss over whole dataset. This works on a smaller subset when you are trying to set the learning rate, with the whole dataset (if it is a big one) this might take too much time and you should turn off that computation. If you use stochastic gradient descent instead, you can compute loss of the same observation or batch of observations that are used in the stochastic gradient descent (this is a small extension of the current gradientDescent function where the weight vector is updated after processing each observation or a small batch of randomly chosen observations). \n"
   ]
  },
  {
   "cell_type": "code",
   "execution_count": 135,
   "metadata": {
    "collapsed": false
   },
   "outputs": [
    {
     "name": "stderr",
     "output_type": "stream",
     "text": [
      "/home/hadoop/IPythonNB/venv/local/lib/python2.7/site-packages/matplotlib/font_manager.py:273: UserWarning: Matplotlib is building the font cache using fc-list. This may take a moment.\n",
      "  warnings.warn('Matplotlib is building the font cache using fc-list. This may take a moment.')\n"
     ]
    },
    {
     "data": {
      "image/png": "[encoded data removed]",
      "text/plain": [
       "<matplotlib.figure.Figure at 0x7f58b420e590>"
      ]
     },
     "metadata": {},
     "output_type": "display_data"
    }
   ],
   "source": [
    "%matplotlib inline\n",
    "import matplotlib\n",
    "import matplotlib.pyplot as plt\n",
    "\n",
    "# do some diagnostics\n",
    "x = range(0, len(error_ex))\n",
    "plt.plot(x, error_ex)\n",
    "plt.title('Log loss change with iterations')\n",
    "plt.show()"
   ]
  },
  {
   "cell_type": "markdown",
   "metadata": {},
   "source": [
    "\n",
    "### Apply gradient descent on whole dataset\n",
    "\n",
    "Now let's train the logistic regression model on all of our training data and evaluate its accuracy on the validation set. You would most likely need many more iterations than 500 to get better estimates.\n",
    "\n",
    "With the dataset of this size gradient descent works fine and you can easily run 10000 iterations on this dataset. However, on big datasets you would use stochastic version. We will not implement it, instead, now that you understand much better map-reduce operations that are going on under the hood, go to the next section and use MLlib function for training the logistic regression. That function uses stochastic gradient descent and provides you with several other useful options."
   ]
  },
  {
   "cell_type": "code",
   "execution_count": 136,
   "metadata": {
    "collapsed": false
   },
   "outputs": [
    {
     "name": "stdout",
     "output_type": "stream",
     "text": [
      "weights\n",
      "[-0.4405168   2.84362307 -0.27680718 -2.56819002  0.32266016 -0.86870146\n",
      "  0.28309384  0.37344161]\n"
     ]
    }
   ],
   "source": [
    "# set the parameters, setting diagnostics to True will increase the time \n",
    "# with 14 workers this took about 5 min\n",
    "alpha = 6\n",
    "noIter = 500\n",
    "diagnostics = False\n",
    "\n",
    "\n",
    "# run the gradient descent on whole training set\n",
    "weights_gd = gradientDescent(trainRDD, noIter, alpha, diagnostics)\n",
    "print \"weights\\n\", weights_gd\n"
   ]
  },
  {
   "cell_type": "code",
   "execution_count": 138,
   "metadata": {
    "collapsed": false
   },
   "outputs": [
    {
     "data": {
      "text/plain": [
       "array([1, 2, 3, 4, 5, 6, 7, 8])"
      ]
     },
     "execution_count": 138,
     "metadata": {},
     "output_type": "execute_result"
    }
   ],
   "source": [
    "weights"
   ]
  },
  {
   "cell_type": "code",
   "execution_count": 139,
   "metadata": {
    "collapsed": false
   },
   "outputs": [
    {
     "name": "stdout",
     "output_type": "stream",
     "text": [
      "0.279836260029 1.0\n",
      "0.264679078101 1.0\n"
     ]
    }
   ],
   "source": [
    "# threshold parameter for misclassification\n",
    "threshold = 0.5\n",
    "\n",
    "# compute the log loss and missclassification error on training \n",
    "probLabTrain = trainRDD.map(lambda(x): probLabTuple(weights_gd, x))\n",
    "logLossTrain_gd = logLoss(probLabTrain)\n",
    "misErrorTrain_gd = misError(probLabTrain, threshold)\n",
    "\n",
    "print logLossTrain_gd, misErrorTrain_gd\n",
    "\n",
    "# and validation set\n",
    "probLabVal = valRDD.map(lambda(x): probLabTuple(weights_gd, x))\n",
    "logLossVal_gd = logLoss(probLabVal)\n",
    "misErrorVal_gd = misError(probLabVal, threshold)\n",
    "\n",
    "print logLossVal_gd, misErrorVal_gd"
   ]
  },
  {
   "cell_type": "code",
   "execution_count": null,
   "metadata": {
    "collapsed": false
   },
   "outputs": [],
   "source": [
    "# compare it with the logLoss of the baseline model\n",
    "# training set\n",
    "probLabTrain = trainRDD.YOUR_CODE\n",
    "logLossTrain_base = logLoss(probLabTrain)\n",
    "\n",
    "print logLossTrain_base, baseTrain_misError\n",
    "\n",
    "# validation set\n",
    "probLabVal = valRDD.YOUR_CODE\n",
    "logLossVal_base = logLoss(probLabVal)\n",
    "\n",
    "print logLossVal_base, baseVal_misError"
   ]
  },
  {
   "cell_type": "markdown",
   "metadata": {},
   "source": [
    "\n",
    "## 6. Logistic regression with MLlib\n",
    "\n",
    "We will now use [LogisticRegressionWithSGD](https://spark.apache.org/docs/latest/api/python/pyspark.mllib.html#pyspark.mllib.classification.LogisticRegressionWithSGD) function from the MLlib Spark library. It returns a [LogisticRegressionModel](https://spark.apache.org/docs/latest/api/python/pyspark.mllib.html#pyspark.mllib.regression.LogisticRegressionModel) with plenty of useful methods.  You can access the weight by using the `LogisticRegressionModel.weights` attributes.\n"
   ]
  },
  {
   "cell_type": "code",
   "execution_count": 87,
   "metadata": {
    "collapsed": true
   },
   "outputs": [],
   "source": [
    "from pyspark.mllib.classification import LogisticRegressionWithSGD\n",
    "\n",
    "# set parameters\n",
    "noIter = 500\n",
    "alpha = 60  # MLlib algorithm uses decaying learning rate, so we need to increase it\n",
    "batchSize = 0.003  # defined as proportion of the whole dataset, ~100 observations\n",
    "regLambda = 1e-6\n",
    "regType = 'l2'\n",
    "intercept = False"
   ]
  },
  {
   "cell_type": "code",
   "execution_count": 140,
   "metadata": {
    "collapsed": false
   },
   "outputs": [],
   "source": [
    "# training the model on trainRDD\n",
    "model_sgd = LogisticRegressionWithSGD.train(trainRDD, iterations= noIter, step = alpha, miniBatchFraction = batchSize, \\\n",
    "                                     regParam = regLambda, regType = regType, intercept = intercept )"
   ]
  },
  {
   "cell_type": "code",
   "execution_count": 141,
   "metadata": {
    "collapsed": false
   },
   "outputs": [
    {
     "name": "stdout",
     "output_type": "stream",
     "text": [
      "[-0.33331689249,1.51715318562,-0.657491363997,-2.05217999418,0.242773477438,-0.820586600082,0.161460371953,0.322739717138]\n"
     ]
    }
   ],
   "source": [
    "# check the weights\n",
    "weights_sgd = model_sgd.weights\n",
    "print weights_sgd"
   ]
  },
  {
   "cell_type": "code",
   "execution_count": 128,
   "metadata": {
    "collapsed": false
   },
   "outputs": [
    {
     "name": "stdout",
     "output_type": "stream",
     "text": [
      "0.304168043867 1.0\n",
      "0.288556676204 1.0\n"
     ]
    }
   ],
   "source": [
    "# evaluate the model\n",
    "\n",
    "# create probLabRDD and compute the log loss and missclassification error on training, using the new SGD weights\n",
    "probLabTrain = trainRDD.map(lambda lp: probLabTuple(weights_sgd, lp))\n",
    "logLossTrain_sgd = logLoss(probLabTrain)\n",
    "misErrorTrain_sgd = misError(probLabTrain, threshold)\n",
    "\n",
    "print logLossTrain_sgd, misErrorTrain_sgd\n",
    "\n",
    "# for validation set, using the new SGD weights\n",
    "probLabVal = valRDD.map(lambda lp: probLabTuple(weights_sgd, lp))\n",
    "logLossVal_sgd = logLoss(probLabVal)\n",
    "misErrorVal_sgd = misError(probLabVal, threshold)\n",
    "\n",
    "print logLossVal_sgd, misErrorVal_sgd"
   ]
  },
  {
   "cell_type": "markdown",
   "metadata": {
    "collapsed": true
   },
   "source": [
    "### Optimizing the hyperparameters\n",
    "\n",
    "Do a grid search to find a good regularization parameter lambda and good learning rate.  \n",
    "Try `regLambda` values [1e-6, 1e-3, 1] and alpha values [0.1, 1, 10, 50, 100].\n"
   ]
  },
  {
   "cell_type": "code",
   "execution_count": 144,
   "metadata": {
    "collapsed": false
   },
   "outputs": [
    {
     "name": "stdout",
     "output_type": "stream",
     "text": [
      "alpha = 1e-01, lambda = 1e-06, loss = 0.324\n",
      "alpha = 1e-01, lambda = 0.001, loss = 0.324\n",
      "alpha = 1e-01, lambda = 1, loss = 0.495\n",
      "alpha = 1e+00, lambda = 1e-06, loss = 0.289\n",
      "alpha = 1e+00, lambda = 0.001, loss = 0.289\n",
      "alpha = 1e+00, lambda = 1, loss = 0.495\n",
      "alpha = 1e+01, lambda = 1e-06, loss = 0.267\n",
      "alpha = 1e+01, lambda = 0.001, loss = 0.270\n",
      "alpha = 1e+01, lambda = 1, loss = 0.499\n",
      "alpha = 5e+01, lambda = 1e-06, loss = 0.233\n",
      "alpha = 5e+01, lambda = 0.001, loss = 0.256\n",
      "alpha = 5e+01, lambda = 1, loss = 22.656\n",
      "alpha = 1e+02, lambda = 1e-06, loss = 0.221\n",
      "alpha = 1e+02, lambda = 0.001, loss = 0.255\n",
      "alpha = 1e+02, lambda = 1, loss = nan\n"
     ]
    }
   ],
   "source": [
    "noIter = 500\n",
    "batchSize = 0.003  # defined as proportion of the whole dataset, ~100 observations\n",
    "regType = 'l2'\n",
    "intercept = False\n",
    "modelLoss = []  # storing losses of each model\n",
    "\n",
    "for alpha in [0.1, 1, 10, 50, 100]:\n",
    "    for regLambda in [1e-6, 1e-3, 1]:\n",
    "        model = LogisticRegressionWithSGD.train(trainRDD, iterations= noIter, step = alpha, miniBatchFraction = batchSize, \\\n",
    "                                     regParam = regLambda, regType = regType, intercept = intercept )\n",
    "        \n",
    "        # evaluate the model\n",
    "        probLabVal = valRDD.map(lambda(x): probLabTuple(model.weights, x))\n",
    "        logLossVal = logLoss(probLabVal)\n",
    "        modelLoss.append(logLossVal)\n",
    "        \n",
    "        # some printout in each iteration\n",
    "        print 'alpha = {0:.0e}, lambda = {1}, loss = {2:.3f}'.format(alpha, regLambda, logLossVal)\n"
   ]
  },
  {
   "cell_type": "markdown",
   "metadata": {},
   "source": [
    "Lambda of 1 and alpha of 50 seems to be a good solution. Lets use it for final evaluation."
   ]
  },
  {
   "cell_type": "code",
   "execution_count": 145,
   "metadata": {
    "collapsed": true
   },
   "outputs": [],
   "source": [
    "# set parameters\n",
    "noIter = 500\n",
    "alpha = 50  \n",
    "batchSize = 0.003  \n",
    "regLambda = 1\n",
    "regType = 'l2'\n",
    "intercept = False\n",
    "\n",
    "# train it on trainRDD\n",
    "theModel = LogisticRegressionWithSGD.train(trainRDD, iterations= noIter, step = 50, miniBatchFraction = batchSize, \\\n",
    "                                     regParam = 1, regType = regType, intercept = intercept )\n",
    "        "
   ]
  },
  {
   "cell_type": "code",
   "execution_count": 146,
   "metadata": {
    "collapsed": false
   },
   "outputs": [
    {
     "name": "stdout",
     "output_type": "stream",
     "text": [
      "22.4682060303 0.887074357192\n",
      "22.6558323415 0.894482090997\n"
     ]
    }
   ],
   "source": [
    "# evaluate the final model\n",
    "\n",
    "# create probLabRDD and compute the log loss and missclassification error on training, using the new SGD weights\n",
    "probLabTrain = trainRDD.map(lambda lp: probLabTuple(theModel.weights, lp))\n",
    "logLossTrain_sgd = logLoss(probLabTrain)\n",
    "misErrorTrain_sgd = misError(probLabTrain, threshold)\n",
    "\n",
    "print logLossTrain_sgd, misErrorTrain_sgd\n",
    "\n",
    "# for validation set, using the new SGD weights\n",
    "probLabVal = valRDD.map(lambda lp: probLabTuple(theModel.weights, lp))\n",
    "logLossVal_sgd = logLoss(probLabVal)\n",
    "misErrorVal_sgd = misError(probLabVal, threshold)\n",
    "\n",
    "print logLossVal_sgd, misErrorVal_sgd"
   ]
  },
  {
   "cell_type": "code",
   "execution_count": 147,
   "metadata": {
    "collapsed": false
   },
   "outputs": [
    {
     "name": "stdout",
     "output_type": "stream",
     "text": [
      "22.3265472362 0.881481481481\n"
     ]
    }
   ],
   "source": [
    "# finally, assesing our final chosen model on the test set\n",
    "probLabTest = testRDD.map(lambda lp: probLabTuple(theModel.weights, lp))\n",
    "logLossTest_sgd = logLoss(probLabTest)\n",
    "misErrorTest_sgd = misError(probLabTest, threshold)\n",
    "\n",
    "print logLossTest_sgd, misErrorTest_sgd"
   ]
  }
 ],
 "metadata": {
  "kernelspec": {
   "display_name": "Python 2",
   "language": "python",
   "name": "python2"
  },
  "language_info": {
   "codemirror_mode": {
    "name": "ipython",
    "version": 2
   },
   "file_extension": ".py",
   "mimetype": "text/x-python",
   "name": "python",
   "nbconvert_exporter": "python",
   "pygments_lexer": "ipython2",
   "version": "2.7.9"
  }
 },
 "nbformat": 4,
 "nbformat_minor": 0
}
